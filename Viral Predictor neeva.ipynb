{
 "cells": [
  {
   "cell_type": "markdown",
   "metadata": {},
   "source": [
    "# Questions\n",
    "\n",
    "### 1. What features did you consider?\n",
    "\n",
    "    The challenge was to predict the virality of new articles. I interpreted that as meaning the only information available would be a row in the shared articles table with the 'eventType' as 'CONTENT SHARED.' Therefore, I only used the user interactions table as a means to calculate virality of the existing dataset.\n",
    "    Given this assumption, the features I used were the author ID, website domain, title, and text. I don't have a lot of natural language processing experience, but I figured that would be the only way to improve the model and used it as an opportunity to dip my toes in to that field. I did some very basic NLP on the title and text fields for additional features.\n",
    "    \n",
    "### 2. What model did you use and why?\n",
    "\n",
    "    My first choice was between a classifier and a regressor. After attempting a couple different regression models, I decided a classification may be more useful and easier to evaluate. Since the goal is to choose articles to showcase, I assumed that a classification model would be fitting for data volume reflective of the dataset given. I chose 6 models to compare using a 10-fold cross validation method: random forest, logistic regression, k nearest neighbors, decision tree, gaussian naive bayes, and support vector clustering. logistic regression had the highest predicted mean and highest predicted lower bound so I went with that one.\n",
    "\n",
    "### 3. What was your evaluation metric for this?\n",
    "\n",
    "    When comparing models, cross validated accuracy scores and standard deviations for those score distributions were used. Accuracy scores are determined by dividing the number of correct predictions by the number of samples. \n",
    "    When evaluating the final logistic regression model that I used, an accuracy score and confusion matrix are both presented. The confusion matrix shows the number of correct and incorrect predicitons for each partition of the dataset (in this case, True or False). \n",
    "    \n",
    "### 4. What features would you like to add to the model in the future if you had more time?\n",
    "\n",
    "    I would definitely do more natural language processing to get more derivative information from the title and text. Specifically, I might try classifying articles by subject, such as technology, politics, sports, etc. I might also try looking at the tone of the articles and titles, categorizing based on things like urgency, positivity/negativity, or subjectivity/obbjectivity, for example. I could also do a scoring system based on use of specific words to see if any words drove more engagement. Further classification might lead to insights about what kinds of articles become viral and any kind of categorization would be a good starting point.\n",
    "    \n",
    "### 5. What other things would you want to try before deploying this model in production.\n",
    "\n",
    "    Overfitting is definitely going to be a problem with this model. The dataset is not huge and my skill with nlp is such that I would need a large dataset to make a well functioning model. I chose to go with a classification because of the limited dataset and because the goal of picking articles to be showcased can be adequately fulfilled using a classification.\n",
    "    Given the need for a model that can be scaled to higher data volume, velocity, and variety, a regression model is better suited for production. After the development of additional features and collection of more data, I would try a regression model.\n",
    "    I would also like to implement a mechanism so that the model could improve and adjust over time. Things that induce virality in the future will likely not be the same things that do that now. In that same vein, introducing a mechanism to avoid self-reinforcing behavior so that different kinds of articles can occasionally see the spotlight. After all, the ultimate goal is to drive engagement to the platform and not just serve people the same content all the time. "
   ]
  },
  {
   "cell_type": "markdown",
   "metadata": {},
   "source": [
    "# Modeling"
   ]
  },
  {
   "cell_type": "code",
   "execution_count": 1,
   "metadata": {},
   "outputs": [],
   "source": [
    "import numpy as np\n",
    "import pandas as pd\n",
    "%matplotlib inline\n",
    "import seaborn as sns"
   ]
  },
  {
   "cell_type": "code",
   "execution_count": 2,
   "metadata": {},
   "outputs": [],
   "source": [
    "df_shared = pd.read_csv('shared_articles.csv')\n",
    "df_users = pd.read_csv('users_interactions.csv')"
   ]
  },
  {
   "cell_type": "markdown",
   "metadata": {},
   "source": [
    "Since the purpose is to predict the virality of new posts, only data in df_shared will be looked at for making predictions. df_users will be used to calculate virality for the purpose of supervised learning. It will also be used for feature generation."
   ]
  },
  {
   "cell_type": "code",
   "execution_count": 3,
   "metadata": {},
   "outputs": [],
   "source": [
    "df = df_shared[df_shared['eventType'] == 'CONTENT SHARED']"
   ]
  },
  {
   "cell_type": "code",
   "execution_count": 4,
   "metadata": {},
   "outputs": [
    {
     "name": "stdout",
     "output_type": "stream",
     "text": [
      "                contentId        eventType  COUNT\n",
      "0    -9222795471790223670         BOOKMARK      1\n",
      "1    -9222795471790223670  COMMENT CREATED      2\n",
      "2    -9222795471790223670           FOLLOW      3\n",
      "3    -9222795471790223670             LIKE      4\n",
      "4    -9222795471790223670             VIEW     16\n",
      "...                   ...              ...    ...\n",
      "7335  9217155070834564627  COMMENT CREATED      2\n",
      "7336  9217155070834564627             VIEW     14\n",
      "7337  9220445660318725468             LIKE      2\n",
      "7338  9220445660318725468             VIEW     50\n",
      "7339  9222265156747237864             VIEW      5\n",
      "\n",
      "[7340 rows x 3 columns]\n"
     ]
    }
   ],
   "source": [
    "df_users['COUNT'] = 1\n",
    "group_data = df_users.groupby(['contentId','eventType'])['COUNT'].sum().reset_index() \n",
    "print(group_data)"
   ]
  },
  {
   "cell_type": "code",
   "execution_count": 5,
   "metadata": {},
   "outputs": [],
   "source": [
    "df_viral = group_data.pivot_table('COUNT', ['contentId'], 'eventType')"
   ]
  },
  {
   "cell_type": "code",
   "execution_count": 6,
   "metadata": {},
   "outputs": [],
   "source": [
    "df_viral = df_viral.fillna(0)"
   ]
  },
  {
   "cell_type": "code",
   "execution_count": 7,
   "metadata": {},
   "outputs": [],
   "source": [
    "def virality(row):\n",
    "   return (1* row['VIEW']) + (4*row['LIKE']) + (10*row['COMMENT CREATED']) +( 25*row['FOLLOW'] )+ (100*row['BOOKMARK'])\n",
    "\n",
    "df_viral['virality'] = df_viral.apply(lambda row: virality(row), axis=1)"
   ]
  },
  {
   "cell_type": "code",
   "execution_count": 8,
   "metadata": {},
   "outputs": [],
   "source": [
    "# removing rows where virality is not known\n",
    "df = df[df.contentId.isin(df_viral.index)]"
   ]
  },
  {
   "cell_type": "code",
   "execution_count": 9,
   "metadata": {},
   "outputs": [],
   "source": [
    "# adding virality column to df\n",
    "df['virality'] = df_viral.loc[df['contentId'], 'virality']\n",
    "for index in df.index:\n",
    "    df.loc[index,'virality'] = df_viral.loc[df.loc[index,'contentId'],'virality']"
   ]
  },
  {
   "cell_type": "code",
   "execution_count": 10,
   "metadata": {},
   "outputs": [],
   "source": [
    "df = df.drop('eventType', axis = 1)"
   ]
  },
  {
   "cell_type": "markdown",
   "metadata": {},
   "source": [
    "calculating domain popularity vs virality"
   ]
  },
  {
   "cell_type": "code",
   "execution_count": 11,
   "metadata": {},
   "outputs": [],
   "source": [
    "# website domain\n",
    "import tldextract\n",
    "def get_site(row):\n",
    "    info = tldextract.extract(row['url'])\n",
    "    return(info.domain)   "
   ]
  },
  {
   "cell_type": "code",
   "execution_count": 12,
   "metadata": {},
   "outputs": [],
   "source": [
    "df['domain'] = df.apply(get_site, axis=1)"
   ]
  },
  {
   "cell_type": "code",
   "execution_count": 13,
   "metadata": {},
   "outputs": [
    {
     "data": {
      "text/plain": [
       "115.21428571428571"
      ]
     },
     "execution_count": 13,
     "metadata": {},
     "output_type": "execute_result"
    }
   ],
   "source": [
    "df[df['domain'] == 'nytimes'].virality.mean()"
   ]
  },
  {
   "cell_type": "code",
   "execution_count": 14,
   "metadata": {},
   "outputs": [],
   "source": [
    "def domain_popularity(row):\n",
    "    return(df[df['domain'] == row['domain']].virality.mean())"
   ]
  },
  {
   "cell_type": "code",
   "execution_count": 15,
   "metadata": {},
   "outputs": [],
   "source": [
    "df['domain popularity'] = df.apply(domain_popularity, axis=1)"
   ]
  },
  {
   "cell_type": "code",
   "execution_count": 16,
   "metadata": {
    "scrolled": false
   },
   "outputs": [
    {
     "data": {
      "text/plain": [
       "0.7650940565859109"
      ]
     },
     "execution_count": 16,
     "metadata": {},
     "output_type": "execute_result"
    }
   ],
   "source": [
    "df['domain popularity'].corr(df['virality'])"
   ]
  },
  {
   "cell_type": "markdown",
   "metadata": {},
   "source": [
    "Author popularity vs virality"
   ]
  },
  {
   "cell_type": "code",
   "execution_count": 17,
   "metadata": {},
   "outputs": [],
   "source": [
    "def author_popularity(row):\n",
    "    return(df[df['authorPersonId'] == row['authorPersonId']].virality.mean())"
   ]
  },
  {
   "cell_type": "code",
   "execution_count": 18,
   "metadata": {},
   "outputs": [],
   "source": [
    "df['author popularity'] = df.apply(author_popularity, axis=1)"
   ]
  },
  {
   "cell_type": "code",
   "execution_count": 19,
   "metadata": {},
   "outputs": [
    {
     "data": {
      "text/plain": [
       "0.4525381623505533"
      ]
     },
     "execution_count": 19,
     "metadata": {},
     "output_type": "execute_result"
    }
   ],
   "source": [
    "df['author popularity'].corr(df['virality'])"
   ]
  },
  {
   "cell_type": "markdown",
   "metadata": {},
   "source": [
    "Article length vs virality"
   ]
  },
  {
   "cell_type": "code",
   "execution_count": 20,
   "metadata": {},
   "outputs": [],
   "source": [
    "import textstat"
   ]
  },
  {
   "cell_type": "code",
   "execution_count": 21,
   "metadata": {},
   "outputs": [],
   "source": [
    "def article_length(row):\n",
    "    return(textstat.syllable_count(row['text']))"
   ]
  },
  {
   "cell_type": "code",
   "execution_count": 22,
   "metadata": {},
   "outputs": [],
   "source": [
    "df['article length'] = df.apply(article_length,axis=1)"
   ]
  },
  {
   "cell_type": "code",
   "execution_count": 23,
   "metadata": {},
   "outputs": [
    {
     "data": {
      "text/plain": [
       "0.13801101293308465"
      ]
     },
     "execution_count": 23,
     "metadata": {},
     "output_type": "execute_result"
    }
   ],
   "source": [
    "df['article length'].corr(df['virality'])"
   ]
  },
  {
   "cell_type": "markdown",
   "metadata": {},
   "source": [
    "Readability vs virality"
   ]
  },
  {
   "cell_type": "code",
   "execution_count": 24,
   "metadata": {},
   "outputs": [],
   "source": [
    "import textstat"
   ]
  },
  {
   "cell_type": "code",
   "execution_count": 25,
   "metadata": {},
   "outputs": [],
   "source": [
    "def readability_score(row):\n",
    "    text = row['text']\n",
    "    return(textstat.difficult_words(text))"
   ]
  },
  {
   "cell_type": "code",
   "execution_count": 26,
   "metadata": {},
   "outputs": [],
   "source": [
    "df['readability score'] = df.apply(readability_score,axis=1)"
   ]
  },
  {
   "cell_type": "code",
   "execution_count": 27,
   "metadata": {
    "scrolled": true
   },
   "outputs": [
    {
     "data": {
      "text/plain": [
       "0.13739140999152524"
      ]
     },
     "execution_count": 27,
     "metadata": {},
     "output_type": "execute_result"
    }
   ],
   "source": [
    "df['readability score'].corr(df['virality'])"
   ]
  },
  {
   "cell_type": "markdown",
   "metadata": {},
   "source": [
    "Title length vs virality"
   ]
  },
  {
   "cell_type": "code",
   "execution_count": 28,
   "metadata": {},
   "outputs": [],
   "source": [
    "# use textstat syllable count\n",
    "def title_length(row):\n",
    "    return(textstat.syllable_count(row['title']))"
   ]
  },
  {
   "cell_type": "code",
   "execution_count": 29,
   "metadata": {},
   "outputs": [],
   "source": [
    "df['title length'] = df.apply(title_length, axis=1)"
   ]
  },
  {
   "cell_type": "code",
   "execution_count": 30,
   "metadata": {
    "scrolled": false
   },
   "outputs": [
    {
     "data": {
      "text/plain": [
       "-0.05591979121137344"
      ]
     },
     "execution_count": 30,
     "metadata": {},
     "output_type": "execute_result"
    }
   ],
   "source": [
    "df['title length'].corr(df['virality'])"
   ]
  },
  {
   "cell_type": "code",
   "execution_count": 31,
   "metadata": {
    "scrolled": true
   },
   "outputs": [
    {
     "data": {
      "text/html": [
       "<div>\n",
       "<style scoped>\n",
       "    .dataframe tbody tr th:only-of-type {\n",
       "        vertical-align: middle;\n",
       "    }\n",
       "\n",
       "    .dataframe tbody tr th {\n",
       "        vertical-align: top;\n",
       "    }\n",
       "\n",
       "    .dataframe thead th {\n",
       "        text-align: right;\n",
       "    }\n",
       "</style>\n",
       "<table border=\"1\" class=\"dataframe\">\n",
       "  <thead>\n",
       "    <tr style=\"text-align: right;\">\n",
       "      <th></th>\n",
       "      <th>timestamp</th>\n",
       "      <th>contentId</th>\n",
       "      <th>authorPersonId</th>\n",
       "      <th>authorSessionId</th>\n",
       "      <th>authorUserAgent</th>\n",
       "      <th>authorRegion</th>\n",
       "      <th>authorCountry</th>\n",
       "      <th>contentType</th>\n",
       "      <th>url</th>\n",
       "      <th>title</th>\n",
       "      <th>text</th>\n",
       "      <th>lang</th>\n",
       "      <th>virality</th>\n",
       "      <th>domain</th>\n",
       "      <th>domain popularity</th>\n",
       "      <th>author popularity</th>\n",
       "      <th>article length</th>\n",
       "      <th>readability score</th>\n",
       "      <th>title length</th>\n",
       "    </tr>\n",
       "  </thead>\n",
       "  <tbody>\n",
       "    <tr>\n",
       "      <th>1</th>\n",
       "      <td>1459193988</td>\n",
       "      <td>-4110354420726924665</td>\n",
       "      <td>4340306774493623681</td>\n",
       "      <td>8940341205206233829</td>\n",
       "      <td>NaN</td>\n",
       "      <td>NaN</td>\n",
       "      <td>NaN</td>\n",
       "      <td>HTML</td>\n",
       "      <td>http://www.nytimes.com/2016/03/28/business/dea...</td>\n",
       "      <td>Ethereum, a Virtual Currency, Enables Transact...</td>\n",
       "      <td>All of this work is still very early. The firs...</td>\n",
       "      <td>en</td>\n",
       "      <td>1.0</td>\n",
       "      <td>nytimes</td>\n",
       "      <td>115.214286</td>\n",
       "      <td>15.117647</td>\n",
       "      <td>1621</td>\n",
       "      <td>195</td>\n",
       "      <td>18</td>\n",
       "    </tr>\n",
       "    <tr>\n",
       "      <th>2</th>\n",
       "      <td>1459194146</td>\n",
       "      <td>-7292285110016212249</td>\n",
       "      <td>4340306774493623681</td>\n",
       "      <td>8940341205206233829</td>\n",
       "      <td>NaN</td>\n",
       "      <td>NaN</td>\n",
       "      <td>NaN</td>\n",
       "      <td>HTML</td>\n",
       "      <td>http://cointelegraph.com/news/bitcoin-future-w...</td>\n",
       "      <td>Bitcoin Future: When GBPcoin of Branson Wins O...</td>\n",
       "      <td>The alarm clock wakes me at 8:00 with stream o...</td>\n",
       "      <td>en</td>\n",
       "      <td>1.0</td>\n",
       "      <td>cointelegraph</td>\n",
       "      <td>8.062500</td>\n",
       "      <td>15.117647</td>\n",
       "      <td>495</td>\n",
       "      <td>82</td>\n",
       "      <td>17</td>\n",
       "    </tr>\n",
       "    <tr>\n",
       "      <th>3</th>\n",
       "      <td>1459194474</td>\n",
       "      <td>-6151852268067518688</td>\n",
       "      <td>3891637997717104548</td>\n",
       "      <td>-1457532940883382585</td>\n",
       "      <td>NaN</td>\n",
       "      <td>NaN</td>\n",
       "      <td>NaN</td>\n",
       "      <td>HTML</td>\n",
       "      <td>https://cloudplatform.googleblog.com/2016/03/G...</td>\n",
       "      <td>Google Data Center 360° Tour</td>\n",
       "      <td>We're excited to share the Google Data Center ...</td>\n",
       "      <td>en</td>\n",
       "      <td>22.0</td>\n",
       "      <td>googleblog</td>\n",
       "      <td>82.096154</td>\n",
       "      <td>88.838462</td>\n",
       "      <td>386</td>\n",
       "      <td>37</td>\n",
       "      <td>7</td>\n",
       "    </tr>\n",
       "    <tr>\n",
       "      <th>5</th>\n",
       "      <td>1459194522</td>\n",
       "      <td>-2826566343807132236</td>\n",
       "      <td>4340306774493623681</td>\n",
       "      <td>8940341205206233829</td>\n",
       "      <td>NaN</td>\n",
       "      <td>NaN</td>\n",
       "      <td>NaN</td>\n",
       "      <td>HTML</td>\n",
       "      <td>http://www.coindesk.com/ieee-blockchain-oxford...</td>\n",
       "      <td>IEEE to Talk Blockchain at Cloud Computing Oxf...</td>\n",
       "      <td>One of the largest and oldest organizations fo...</td>\n",
       "      <td>en</td>\n",
       "      <td>2.0</td>\n",
       "      <td>coindesk</td>\n",
       "      <td>45.708333</td>\n",
       "      <td>15.117647</td>\n",
       "      <td>454</td>\n",
       "      <td>67</td>\n",
       "      <td>15</td>\n",
       "    </tr>\n",
       "    <tr>\n",
       "      <th>7</th>\n",
       "      <td>1459194599</td>\n",
       "      <td>4119190424078847945</td>\n",
       "      <td>4340306774493623681</td>\n",
       "      <td>8940341205206233829</td>\n",
       "      <td>NaN</td>\n",
       "      <td>NaN</td>\n",
       "      <td>NaN</td>\n",
       "      <td>HTML</td>\n",
       "      <td>https://bitcoinmagazine.com/articles/blockchai...</td>\n",
       "      <td>Blockchain Technology Could Put Bank Auditors ...</td>\n",
       "      <td>When most people think about computers and rob...</td>\n",
       "      <td>en</td>\n",
       "      <td>1.0</td>\n",
       "      <td>bitcoinmagazine</td>\n",
       "      <td>29.000000</td>\n",
       "      <td>15.117647</td>\n",
       "      <td>1105</td>\n",
       "      <td>135</td>\n",
       "      <td>14</td>\n",
       "    </tr>\n",
       "  </tbody>\n",
       "</table>\n",
       "</div>"
      ],
      "text/plain": [
       "    timestamp            contentId       authorPersonId      authorSessionId  \\\n",
       "1  1459193988 -4110354420726924665  4340306774493623681  8940341205206233829   \n",
       "2  1459194146 -7292285110016212249  4340306774493623681  8940341205206233829   \n",
       "3  1459194474 -6151852268067518688  3891637997717104548 -1457532940883382585   \n",
       "5  1459194522 -2826566343807132236  4340306774493623681  8940341205206233829   \n",
       "7  1459194599  4119190424078847945  4340306774493623681  8940341205206233829   \n",
       "\n",
       "  authorUserAgent authorRegion authorCountry contentType  \\\n",
       "1             NaN          NaN           NaN        HTML   \n",
       "2             NaN          NaN           NaN        HTML   \n",
       "3             NaN          NaN           NaN        HTML   \n",
       "5             NaN          NaN           NaN        HTML   \n",
       "7             NaN          NaN           NaN        HTML   \n",
       "\n",
       "                                                 url  \\\n",
       "1  http://www.nytimes.com/2016/03/28/business/dea...   \n",
       "2  http://cointelegraph.com/news/bitcoin-future-w...   \n",
       "3  https://cloudplatform.googleblog.com/2016/03/G...   \n",
       "5  http://www.coindesk.com/ieee-blockchain-oxford...   \n",
       "7  https://bitcoinmagazine.com/articles/blockchai...   \n",
       "\n",
       "                                               title  \\\n",
       "1  Ethereum, a Virtual Currency, Enables Transact...   \n",
       "2  Bitcoin Future: When GBPcoin of Branson Wins O...   \n",
       "3                       Google Data Center 360° Tour   \n",
       "5  IEEE to Talk Blockchain at Cloud Computing Oxf...   \n",
       "7  Blockchain Technology Could Put Bank Auditors ...   \n",
       "\n",
       "                                                text lang  virality  \\\n",
       "1  All of this work is still very early. The firs...   en       1.0   \n",
       "2  The alarm clock wakes me at 8:00 with stream o...   en       1.0   \n",
       "3  We're excited to share the Google Data Center ...   en      22.0   \n",
       "5  One of the largest and oldest organizations fo...   en       2.0   \n",
       "7  When most people think about computers and rob...   en       1.0   \n",
       "\n",
       "            domain  domain popularity  author popularity  article length  \\\n",
       "1          nytimes         115.214286          15.117647            1621   \n",
       "2    cointelegraph           8.062500          15.117647             495   \n",
       "3       googleblog          82.096154          88.838462             386   \n",
       "5         coindesk          45.708333          15.117647             454   \n",
       "7  bitcoinmagazine          29.000000          15.117647            1105   \n",
       "\n",
       "   readability score  title length  \n",
       "1                195            18  \n",
       "2                 82            17  \n",
       "3                 37             7  \n",
       "5                 67            15  \n",
       "7                135            14  "
      ]
     },
     "execution_count": 31,
     "metadata": {},
     "output_type": "execute_result"
    }
   ],
   "source": [
    "df.head()"
   ]
  },
  {
   "cell_type": "markdown",
   "metadata": {},
   "source": [
    "## Models"
   ]
  },
  {
   "cell_type": "markdown",
   "metadata": {},
   "source": [
    "### Classifiers"
   ]
  },
  {
   "cell_type": "markdown",
   "metadata": {},
   "source": [
    "Goal is to classify viral vs not viral so must determine a virality score where an article can be considered viral"
   ]
  },
  {
   "cell_type": "code",
   "execution_count": 32,
   "metadata": {},
   "outputs": [
    {
     "data": {
      "text/plain": [
       "<matplotlib.axes._subplots.AxesSubplot at 0x1e3b2e4db88>"
      ]
     },
     "execution_count": 32,
     "metadata": {},
     "output_type": "execute_result"
    },
    {
     "data": {
      "image/png": "[encoded data removed]",
      "text/plain": [
       "<Figure size 432x288 with 1 Axes>"
      ]
     },
     "metadata": {
      "needs_background": "light"
     },
     "output_type": "display_data"
    }
   ],
   "source": [
    "sns.distplot(df['virality'])"
   ]
  },
  {
   "cell_type": "code",
   "execution_count": 33,
   "metadata": {},
   "outputs": [],
   "source": [
    "vir_std = df['virality'].std()"
   ]
  },
  {
   "cell_type": "code",
   "execution_count": 34,
   "metadata": {},
   "outputs": [],
   "source": [
    "vir_mean = df['virality'].mean()"
   ]
  },
  {
   "cell_type": "code",
   "execution_count": 35,
   "metadata": {},
   "outputs": [],
   "source": [
    "df_class = df"
   ]
  },
  {
   "cell_type": "code",
   "execution_count": 37,
   "metadata": {},
   "outputs": [],
   "source": [
    "threshold = vir_mean + vir_std\n",
    "def classify_virality(row):\n",
    "    if row['virality'] > threshold:\n",
    "        return True\n",
    "    else:\n",
    "        return False"
   ]
  },
  {
   "cell_type": "code",
   "execution_count": 38,
   "metadata": {},
   "outputs": [],
   "source": [
    "df_class['virality'] = df_class.apply(classify_virality, axis=1)"
   ]
  },
  {
   "cell_type": "code",
   "execution_count": 39,
   "metadata": {},
   "outputs": [],
   "source": [
    "#train test split\n",
    "from sklearn.model_selection import train_test_split\n",
    "X = df_class.loc[:,['domain popularity', 'author popularity', 'title length', 'article length', 'readability score']]\n",
    "y = df_class['virality']\n",
    "X_train, X_test, y_train, y_test = train_test_split(X, y, test_size = 0.2, random_state = 1)"
   ]
  },
  {
   "cell_type": "code",
   "execution_count": 45,
   "metadata": {
    "scrolled": false
   },
   "outputs": [
    {
     "name": "stdout",
     "output_type": "stream",
     "text": [
      "LR: 0.944613 (0.017451)\n",
      "KNN: 0.941588 (0.019931)\n",
      "DTC: 0.910037 (0.021634)\n",
      "NB: 0.932521 (0.023199)\n",
      "SVM: 0.938568 (0.021756)\n",
      "RFC: 0.940918 (0.020647)\n"
     ]
    },
    {
     "data": {
      "image/png": "[encoded data removed]",
      "text/plain": [
       "<Figure size 432x288 with 1 Axes>"
      ]
     },
     "metadata": {
      "needs_background": "light"
     },
     "output_type": "display_data"
    }
   ],
   "source": [
    "import matplotlib.pyplot as plt\n",
    "from sklearn import model_selection\n",
    "from sklearn.ensemble import RandomForestClassifier\n",
    "from sklearn.linear_model import LogisticRegression\n",
    "from sklearn.tree import DecisionTreeClassifier\n",
    "from sklearn.neighbors import KNeighborsClassifier\n",
    "from sklearn.discriminant_analysis import LinearDiscriminantAnalysis\n",
    "from sklearn.naive_bayes import GaussianNB\n",
    "from sklearn.svm import SVC\n",
    "\n",
    "# models\n",
    "models = []\n",
    "models.append(('LR', LogisticRegression()))\n",
    "models.append(('KNN', KNeighborsClassifier()))\n",
    "models.append(('DTC', DecisionTreeClassifier()))\n",
    "models.append(('NB', GaussianNB()))\n",
    "models.append(('SVM', SVC()))\n",
    "models.append(('RFC', RandomForestClassifier()))\n",
    "\n",
    "# evaluate each model\n",
    "results = []\n",
    "names = []\n",
    "scoring = 'accuracy'\n",
    "for name, model in models:\n",
    "    kfold = model_selection.KFold(n_splits=10)\n",
    "    cv_results = model_selection.cross_val_score(model, X, y, cv=kfold, scoring=scoring)\n",
    "    results.append(cv_results)\n",
    "    names.append(name)\n",
    "    out = \"%s: %f (%f)\" % (name, cv_results.mean(), cv_results.std())\n",
    "    print(out)\n",
    "    \n",
    "# model comparison boxplot\n",
    "fig = plt.figure()\n",
    "fig.suptitle('Model Comparison')\n",
    "ax = fig.add_subplot(111)\n",
    "plt.boxplot(results)\n",
    "ax.set_xticklabels(names)\n",
    "plt.show()"
   ]
  },
  {
   "cell_type": "markdown",
   "metadata": {},
   "source": [
    "#### Logistic Regression Model"
   ]
  },
  {
   "cell_type": "code",
   "execution_count": 41,
   "metadata": {},
   "outputs": [
    {
     "data": {
      "text/plain": [
       "0.9345637583892618"
      ]
     },
     "execution_count": 41,
     "metadata": {},
     "output_type": "execute_result"
    }
   ],
   "source": [
    "LR = LogisticRegression(random_state=0).fit(X_train, y_train)\n",
    "pred_lr = LR.predict(X_test)\n",
    "pred_proba_lr = LR.predict_proba(X_test)\n",
    "LR.score(X_test,y_test)"
   ]
  },
  {
   "cell_type": "code",
   "execution_count": 42,
   "metadata": {},
   "outputs": [
    {
     "name": "stdout",
     "output_type": "stream",
     "text": [
      "              precision    recall  f1-score   support\n",
      "\n",
      "       False       0.94      0.99      0.97       548\n",
      "        True       0.80      0.25      0.38        48\n",
      "\n",
      "    accuracy                           0.93       596\n",
      "   macro avg       0.87      0.62      0.67       596\n",
      "weighted avg       0.93      0.93      0.92       596\n",
      "\n",
      "[[545   3]\n",
      " [ 36  12]]\n"
     ]
    }
   ],
   "source": [
    "from sklearn.metrics import confusion_matrix, classification_report\n",
    "print(classification_report(y_test, pred_lr))\n",
    "print(confusion_matrix(y_test, pred_lr))"
   ]
  }
 ],
 "metadata": {
  "kernelspec": {
   "display_name": "Python 3",
   "language": "python",
   "name": "python3"
  },
  "language_info": {
   "codemirror_mode": {
    "name": "ipython",
    "version": 3
   },
   "file_extension": ".py",
   "mimetype": "text/x-python",
   "name": "python",
   "nbconvert_exporter": "python",
   "pygments_lexer": "ipython3",
   "version": "3.7.6"
  }
 },
 "nbformat": 4,
 "nbformat_minor": 4
}
